{
 "cells": [
  {
   "cell_type": "markdown",
   "metadata": {
    "collapsed": true
   },
   "source": [
    "# 随机森林和神经网络 预测 高频交易：\n",
    "- 用分类算法 预测 buy or hold or sell\n",
    "- 用回归算法 预测 下一个 tick 的股票价格"
   ]
  },
  {
   "cell_type": "markdown",
   "metadata": {},
   "source": [
    "目录结构如下\n",
    "- /single_tick\n",
    "    - *.csv\n",
    "- ML_prediction.py\n",
    "- handcraft_policy.py"
   ]
  },
  {
   "cell_type": "code",
   "execution_count": 18,
   "metadata": {
    "collapsed": true
   },
   "outputs": [],
   "source": [
    "import pandas as pd\n",
    "import numpy as np\n",
    "from sklearn.ensemble import RandomForestClassifier, RandomForestRegressor\n",
    "from sklearn.neural_network import MLPClassifier, MLPRegressor\n",
    "from sklearn.metrics import accuracy_score, mean_squared_error\n",
    "import os\n",
    "import matplotlib.pyplot as plt\n",
    "import os"
   ]
  },
  {
   "cell_type": "markdown",
   "metadata": {},
   "source": [
    "将single_tick目录下的 *.csv 读取，并且分成 测试集 和 训练集"
   ]
  },
  {
   "cell_type": "code",
   "execution_count": 21,
   "metadata": {
    "collapsed": true
   },
   "outputs": [],
   "source": [
    "def file_name(dir):\n",
    "    for root, dirs, files in os.walk(dir):\n",
    "        return files\n",
    "\n",
    "\n",
    "def get_files(TICK_FOLDER):\n",
    "    dir = os.path.dirname(os.path.realpath('__file__'))\n",
    "    dir += '/' + TICK_FOLDER[:-1]\n",
    "    files = file_name(dir)\n",
    "    return files\n",
    "\n",
    "\n",
    "def read_csv_to_data(TICK_FOLDER):\n",
    "    # 读取csv，分成 训练集 ，测试集\n",
    "    data_trains = []\n",
    "    data_tests = []\n",
    "    files = get_files(TICK_FOLDER)\n",
    "    print('len(files)', len(files))\n",
    "    # 3/4 为训练集，其余为测试集\n",
    "    for i in range(len(files)):\n",
    "        if i < len(files) * 3 / 4:\n",
    "            data_train_temp = pd.read_csv(TICK_FOLDER + files[i])\n",
    "            data_trains.append(data_train_temp)\n",
    "        else:\n",
    "            data_test_temp = pd.read_csv(TICK_FOLDER + files[i])\n",
    "            data_tests.append(data_test_temp)\n",
    "    # data = pd.concat(datas)\n",
    "    data_train = pd.concat(data_trains)\n",
    "    data_test = pd.concat(data_tests)\n",
    "    return data_train, data_test, data_tests"
   ]
  },
  {
   "cell_type": "code",
   "execution_count": 26,
   "metadata": {},
   "outputs": [
    {
     "name": "stdout",
     "output_type": "stream",
     "text": [
      "len(files) 15.0\n"
     ]
    },
    {
     "data": {
      "text/plain": [
       "(pandas.core.frame.DataFrame, pandas.core.frame.DataFrame, list)"
      ]
     },
     "execution_count": 26,
     "metadata": {},
     "output_type": "execute_result"
    }
   ],
   "source": [
    "TICK_FOLDER = 'single_tick//'\n",
    "data_train, data_test, data_tests_arr = read_csv_to_data(TICK_FOLDER)\n",
    "type(data_train), type(data_test), type(data_tests_arr)"
   ]
  },
  {
   "cell_type": "markdown",
   "metadata": {},
   "source": [
    "分类预测时构造 real 和 prediction 表格\n",
    "价格预测时构造 对比图"
   ]
  },
  {
   "cell_type": "code",
   "execution_count": 32,
   "metadata": {
    "collapsed": true
   },
   "outputs": [],
   "source": [
    "def make_table(data_test, y_pred):\n",
    "    # 构造 real 和 prediction 表格\n",
    "    values = [0, 1, -1]\n",
    "    reals = []\n",
    "    index_name = []\n",
    "    pred_name = []\n",
    "    for real_value in values:\n",
    "        data_with_real_value = data_test[data_test['buy_hold_sell'] == real_value]\n",
    "        real_value_pred = pd.DataFrame({'y_pred': y_pred[data_with_real_value.index]})\n",
    "        preds = []\n",
    "        for pred_value in values:\n",
    "            pred = real_value_pred[real_value_pred['y_pred'] == pred_value].count()[0]\n",
    "            # print (pred)\n",
    "            preds.append(pred)\n",
    "        reals.append(preds)\n",
    "        index_name.append('real is ' + str(real_value))\n",
    "        pred_name.append('predction is ' + str(real_value))\n",
    "\n",
    "    # df = pd.DataFrame({'real is '+str(values[0]):reals[0],\n",
    "    #                   'real is '+str(values[1]):reals[1],\n",
    "    #                   'real is '+str(values[2]):reals[2],\n",
    "    #                   })\n",
    "    table = pd.DataFrame(reals)\n",
    "    table.index = index_name\n",
    "    table.columns = pred_name\n",
    "    print(table)\n",
    "\n",
    "\n",
    "def plot_compare(y_pred, y_test):\n",
    "    plt.plot(np.array(y_pred[0:30]), 'o', color='red', label='prediction')\n",
    "    plt.plot(np.array(y_test[0:30]), 'o', color='green', label='real')\n",
    "    plt.xlabel('example')\n",
    "    plt.ylabel('price')\n",
    "    plt.legend(loc='best')\n",
    "    plt.show()"
   ]
  },
  {
   "cell_type": "markdown",
   "metadata": {},
   "source": [
    "随机森林和神经网络的分类和回归实验方法："
   ]
  },
  {
   "cell_type": "code",
   "execution_count": 31,
   "metadata": {
    "collapsed": true
   },
   "outputs": [],
   "source": [
    "def RandomForest_classifier_exp(data_train, data_test):\n",
    "    print('---------------RandomForest_classifier_exp---------------')\n",
    "    X_train = data_train.iloc[0:, 7:16]\n",
    "    y_train = data_train['buy_hold_sell']\n",
    "    X_test = data_test.iloc[0:, 7:16]\n",
    "    y_test = data_test['buy_hold_sell']\n",
    "    clf = RandomForestClassifier()\n",
    "    clf.fit(X_train, y_train)\n",
    "    y_pred = clf.predict(X_test)\n",
    "    print('accuracy_score:', accuracy_score(y_pred, y_test), '\\n')\n",
    "    make_table(data_test, y_pred)\n",
    "    return y_pred\n",
    "\n",
    "\n",
    "def RandomForest_regressor_exp(data_train, data_test):\n",
    "    print('---------------RandomForest_regression_exp---------------')\n",
    "    X_train = data_train.iloc[0:, 7:16]\n",
    "    y_train = data_train['next_price']\n",
    "    X_test = data_test.iloc[0:, 7:16]\n",
    "    y_test = data_test['next_price']\n",
    "    clf = RandomForestRegressor()\n",
    "    clf.fit(X_train, y_train)\n",
    "    y_pred = clf.predict(X_test)\n",
    "    plot_compare(y_pred, y_test)\n",
    "    print('mean_squared_error:', mean_squared_error(y_pred, y_test), '\\n')\n",
    "\n",
    "\n",
    "def MlPClassifier_classifier_exp(data_train, data_test):\n",
    "    print('---------------MlPClassifier_classifier_exp---------------')\n",
    "    X_train = data_train.iloc[0:, 7:16]\n",
    "    y_train = data_train['buy_hold_sell']\n",
    "    X_test = data_test.iloc[0:, 7:16]\n",
    "    y_test = data_test['buy_hold_sell']\n",
    "    clf = MLPClassifier()\n",
    "    clf.fit(X_train, y_train)\n",
    "    y_pred = clf.predict(X_test)\n",
    "    print('accuracy_score:', accuracy_score(y_pred, y_test), '\\n')\n",
    "    make_table(data_test, y_pred)\n",
    "    return y_pred\n",
    "\n",
    "\n",
    "def MLPRegressor_regressor_exp(data_train, data_test):\n",
    "    print('---------------MLPRegressor_regressor_exp---------------')\n",
    "    X_train = data_train.iloc[0:, 7:16]\n",
    "    y_train = data_train['next_price']\n",
    "    X_test = data_test.iloc[0:, 7:16]\n",
    "    y_test = data_test['next_price']\n",
    "    clf = MLPRegressor(hidden_layer_sizes=3)\n",
    "    clf.fit(X_train, y_train)\n",
    "    y_pred = clf.predict(X_test)\n",
    "    plot_compare(y_pred, y_test)\n",
    "    print('mean_squared_error:', mean_squared_error(y_pred, y_test), '\\n')"
   ]
  },
  {
   "cell_type": "markdown",
   "metadata": {},
   "source": [
    "随机森林 预测 分类："
   ]
  },
  {
   "cell_type": "code",
   "execution_count": 33,
   "metadata": {},
   "outputs": [
    {
     "name": "stdout",
     "output_type": "stream",
     "text": [
      "---------------RandomForest_classifier_exp---------------\n",
      "accuracy_score: 0.964142011834 \n",
      "\n",
      "            predction is 0  predction is 1  predction is -1\n",
      "real is 0            16496               0               32\n",
      "real is 1              185               0                1\n",
      "real is -1             185               0                1\n"
     ]
    },
    {
     "data": {
      "text/plain": [
       "array([0, 0, 0, ..., 0, 0, 0])"
      ]
     },
     "execution_count": 33,
     "metadata": {},
     "output_type": "execute_result"
    }
   ],
   "source": [
    "RandomForest_classifier_exp(data_train, data_test)"
   ]
  },
  {
   "cell_type": "code",
   "execution_count": null,
   "metadata": {
    "collapsed": true
   },
   "outputs": [],
   "source": [
    "随机森林 预测 价格：\n",
    "取了前30个样本显示"
   ]
  },
  {
   "cell_type": "code",
   "execution_count": 34,
   "metadata": {},
   "outputs": [
    {
     "name": "stdout",
     "output_type": "stream",
     "text": [
      "---------------RandomForest_regression_exp---------------\n"
     ]
    },
    {
     "data": {
      "image/png": "[encoded data removed]",
      "text/plain": [
       "<matplotlib.figure.Figure at 0x103060b00>"
      ]
     },
     "metadata": {},
     "output_type": "display_data"
    },
    {
     "name": "stdout",
     "output_type": "stream",
     "text": [
      "mean_squared_error: 0.00169369964497 \n",
      "\n"
     ]
    }
   ],
   "source": [
    "RandomForest_regressor_exp(data_train,data_test)"
   ]
  },
  {
   "cell_type": "code",
   "execution_count": null,
   "metadata": {
    "collapsed": true
   },
   "outputs": [],
   "source": [
    "神经网络 预测 分类："
   ]
  },
  {
   "cell_type": "code",
   "execution_count": 35,
   "metadata": {},
   "outputs": [
    {
     "name": "stdout",
     "output_type": "stream",
     "text": [
      "---------------MlPClassifier_classifier_exp---------------\n",
      "accuracy_score: 0.97798816568 \n",
      "\n",
      "            predction is 0  predction is 1  predction is -1\n",
      "real is 0            16528               0                0\n",
      "real is 1              186               0                0\n",
      "real is -1             186               0                0\n"
     ]
    },
    {
     "data": {
      "text/plain": [
       "array([0, 0, 0, ..., 0, 0, 0])"
      ]
     },
     "execution_count": 35,
     "metadata": {},
     "output_type": "execute_result"
    }
   ],
   "source": [
    "MlPClassifier_classifier_exp(data_train,data_test)"
   ]
  },
  {
   "cell_type": "code",
   "execution_count": null,
   "metadata": {
    "collapsed": true
   },
   "outputs": [],
   "source": [
    "神经网络 预测 价格："
   ]
  },
  {
   "cell_type": "code",
   "execution_count": 36,
   "metadata": {},
   "outputs": [
    {
     "name": "stdout",
     "output_type": "stream",
     "text": [
      "---------------MLPRegressor_regressor_exp---------------\n"
     ]
    },
    {
     "data": {
      "image/png": "[encoded data removed]",
      "text/plain": [
       "<matplotlib.figure.Figure at 0x10e2dda90>"
      ]
     },
     "metadata": {},
     "output_type": "display_data"
    },
    {
     "name": "stdout",
     "output_type": "stream",
     "text": [
      "mean_squared_error: 153.596622717 \n",
      "\n"
     ]
    }
   ],
   "source": [
    "MLPRegressor_regressor_exp(data_train,data_test)"
   ]
  },
  {
   "cell_type": "code",
   "execution_count": null,
   "metadata": {
    "collapsed": true
   },
   "outputs": [],
   "source": [
    "神经网络的参数 还可以优化\n",
    "除此之外：\n",
    "0类样本占比太大，对 ML 而言，很难有很好的效果。"
   ]
  }
 ],
 "metadata": {
  "kernelspec": {
   "display_name": "Python 3",
   "language": "python",
   "name": "python3"
  },
  "language_info": {
   "codemirror_mode": {
    "name": "ipython",
    "version": 3
   },
   "file_extension": ".py",
   "mimetype": "text/x-python",
   "name": "python",
   "nbconvert_exporter": "python",
   "pygments_lexer": "ipython3",
   "version": "3.6.1"
  }
 },
 "nbformat": 4,
 "nbformat_minor": 2
}
